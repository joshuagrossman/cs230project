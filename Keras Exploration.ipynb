{
 "cells": [
  {
   "cell_type": "markdown",
   "metadata": {},
   "source": [
    "## This is my exploration of Keras models. See second half for non-sequential."
   ]
  },
  {
   "cell_type": "code",
   "execution_count": 19,
   "metadata": {},
   "outputs": [],
   "source": [
    "from keras.preprocessing import sequence\n",
    "from keras.models import Sequential\n",
    "from keras.layers import *\n",
    "import numpy as np"
   ]
  },
  {
   "cell_type": "code",
   "execution_count": 13,
   "metadata": {},
   "outputs": [],
   "source": [
    "model = Sequential()\n",
    "\n",
    "# Dimension: (288, 5, 1)\n",
    "model.add(TimeDistributed(Conv2D(filters=10,\n",
    "\t\t\t\t\t\t\t\t kernel_size=(9, 2),\n",
    "\t\t\t\t\t\t\t\t strides=(1, 1),\n",
    "\t\t\t\t\t\t\t\t padding='SAME',\n",
    "\t\t\t\t\t\t\t\t activation='relu',\n",
    "\t\t\t\t\t\t\t\t input_shape=(288, 5, 1))))\n",
    "# Dimension: (288, 5, 10)\n",
    "model.add(TimeDistributed(MaxPooling2D(pool_size=(4, 2), strides=(2, 1))))\n",
    "# Dimension: (144, 4, 10)\n",
    "model.add((LSTM(1, input_shape=(141, 3, 20), return_sequences=True)))\n",
    "# Dimension: (144, 4, 10)\n",
    "model.add(TimeDistributed(Conv2D(20, kernel_size=(5, 2), strides=(1, 1), activation='relu')))\n",
    "# Dimension: (140, 3, 20)\n",
    "model.add(TimeDistributed(MaxPooling2D(pool_size=(4, 1), strides=(4, 1))))\n",
    "# Dimension: (35, 3, 20)\n",
    "model.add((LSTM(1, input_shape=(35, 3, 20), return_sequences=True)))\n",
    "# Dimension: (35, 3, 20)\n",
    "model.add(TimeDistributed(Flatten()))\n",
    "# Dimension: (2100)\n",
    "model.add(TimeDistributed(Dense(1000)))\n",
    "model.add(TimeDistributed(Dense(500)))\n",
    "model.add(Dense(88))\n",
    "model.add(Activation('sigmoid'))\n",
    "\n",
    "# try using different optimizers and different optimizer configs\n",
    "model.compile('adam', 'binary_crossentropy', metrics=['accuracy'])"
   ]
  },
  {
   "cell_type": "code",
   "execution_count": 20,
   "metadata": {},
   "outputs": [],
   "source": [
    "import os\n",
    "cqt_slice_filenames = sorted(os.listdir(\"sample-cqt-aitan\\\\sample-cqt-aitan\"))\n",
    "pr_slice_filenames = sorted(os.listdir(\"sample-pianoroll-aitan\\\\sample-pianoroll-aitan\"))\n",
    "num_slices = len(cqt_slice_filenames)\n",
    "assert(len(cqt_slice_filenames) == len(pr_slice_filenames))"
   ]
  },
  {
   "cell_type": "code",
   "execution_count": 28,
   "metadata": {},
   "outputs": [],
   "source": [
    "# # Prepare x and y data\n",
    "# x_train = np.zeros((1, num_slices, 288, 5, 1))\n",
    "# y_train = np.zeros((1, num_slices, 88, 1))\n",
    "# for i in range(num_slices):\n",
    "#     cqt_slice = np.fromfile(\"sample-cqt-aitan\\\\sample-cqt-aitan\\\\\" + cqt_slice_filenames[i]).reshape((288, 5, 1))\n",
    "#     pr_slice = np.fromfile(\"sample-pianoroll-aitan\\\\sample-pianoroll-aitan\\\\\" + pr_slice_filenames[i]).reshape((88, 1))\n",
    "#     x_train[0, i, :, :, :] = cqt_slice\n",
    "#     y_train[0, i, :, :] = pr_slice"
   ]
  },
  {
   "cell_type": "code",
   "execution_count": null,
   "metadata": {},
   "outputs": [],
   "source": [
    "model.fit(x_train, y_train, epochs=5)"
   ]
  },
  {
   "cell_type": "code",
   "execution_count": null,
   "metadata": {},
   "outputs": [],
   "source": [
    "score, acc = model.evaluate(x_train, y_train)"
   ]
  },
  {
   "cell_type": "markdown",
   "metadata": {},
   "source": [
    "## Abort and try non-sequential"
   ]
  },
  {
   "cell_type": "code",
   "execution_count": 41,
   "metadata": {},
   "outputs": [],
   "source": [
    "from sklearn.model_selection import train_test_split"
   ]
  },
  {
   "cell_type": "code",
   "execution_count": 42,
   "metadata": {},
   "outputs": [],
   "source": [
    "# Prepare x and y data\n",
    "x = np.zeros((num_slices, 288, 5, 1))\n",
    "y = np.zeros((num_slices, 88))\n",
    "for i in range(num_slices):\n",
    "    cqt_slice = np.fromfile(\"sample-cqt-aitan\\\\sample-cqt-aitan\\\\\" + cqt_slice_filenames[i]).reshape((288, 5, 1))\n",
    "    pr_slice = np.fromfile(\"sample-pianoroll-aitan\\\\sample-pianoroll-aitan\\\\\" + pr_slice_filenames[i]).reshape((88))\n",
    "    x[i, :, :, :] = cqt_slice\n",
    "    y[i, :] = pr_slice\n",
    "\n",
    "x_train, x_test, y_train, y_test = train_test_split(x, y, test_size=0.2)"
   ]
  },
  {
   "cell_type": "code",
   "execution_count": 62,
   "metadata": {},
   "outputs": [
    {
     "name": "stdout",
     "output_type": "stream",
     "text": [
      "Model: \"sequential_13\"\n",
      "_________________________________________________________________\n",
      "Layer (type)                 Output Shape              Param #   \n",
      "=================================================================\n",
      "conv2d_22 (Conv2D)           (None, 288, 5, 10)        190       \n",
      "_________________________________________________________________\n",
      "max_pooling2d_21 (MaxPooling (None, 143, 4, 10)        0         \n",
      "_________________________________________________________________\n",
      "conv2d_23 (Conv2D)           (None, 139, 3, 20)        2020      \n",
      "_________________________________________________________________\n",
      "max_pooling2d_22 (MaxPooling (None, 34, 3, 20)         0         \n",
      "_________________________________________________________________\n",
      "flatten_11 (Flatten)         (None, 2040)              0         \n",
      "_________________________________________________________________\n",
      "dense_31 (Dense)             (None, 1000)              2041000   \n",
      "_________________________________________________________________\n",
      "dense_32 (Dense)             (None, 500)               500500    \n",
      "_________________________________________________________________\n",
      "dense_33 (Dense)             (None, 88)                44088     \n",
      "_________________________________________________________________\n",
      "activation_11 (Activation)   (None, 88)                0         \n",
      "=================================================================\n",
      "Total params: 2,587,798\n",
      "Trainable params: 2,587,798\n",
      "Non-trainable params: 0\n",
      "_________________________________________________________________\n"
     ]
    }
   ],
   "source": [
    "model = Sequential()\n",
    "\n",
    "# Dimension: (288, 5, 1)\n",
    "model.add(Conv2D(filters=10,\n",
    "                 kernel_size=(9, 2),\n",
    "                 strides=(1, 1),\n",
    "                 padding='SAME',\n",
    "                 activation='relu',\n",
    "                 input_shape=(288, 5, 1)))\n",
    "# Dimension: (288, 5, 10)\n",
    "model.add(MaxPooling2D(pool_size=(4, 2), strides=(2, 1)))\n",
    "# Dimension: (143, 4, 10)\n",
    "model.add(Conv2D(20, kernel_size=(5, 2), strides=(1, 1), activation='relu'))\n",
    "# Dimension: (139, 3, 20)\n",
    "model.add(MaxPooling2D(pool_size=(4, 1), strides=(4, 1)))\n",
    "# Dimension: (34, 3, 20)\n",
    "model.add(Flatten())\n",
    "# Dimension: (2100)\n",
    "model.add(Dense(1000))\n",
    "model.add(Dense(500))\n",
    "model.add(Dense(88))\n",
    "model.add(Activation('sigmoid'))\n",
    "\n",
    "# try using different optimizers and different optimizer configs\n",
    "model.compile('adam', 'binary_crossentropy', metrics=['accuracy'])\n",
    "\n",
    "model.summary()"
   ]
  },
  {
   "cell_type": "code",
   "execution_count": 63,
   "metadata": {},
   "outputs": [
    {
     "name": "stdout",
     "output_type": "stream",
     "text": [
      "Epoch 1/5\n",
      "10/10 [==============================] - 0s 15ms/step - loss: 0.6993 - accuracy: 0.4659\n",
      "Epoch 2/5\n",
      "10/10 [==============================] - 0s 2ms/step - loss: 0.5123 - accuracy: 0.9864\n",
      "Epoch 3/5\n",
      "10/10 [==============================] - 0s 2ms/step - loss: 0.3332 - accuracy: 1.0000\n",
      "Epoch 4/5\n",
      "10/10 [==============================] - 0s 2ms/step - loss: 0.1688 - accuracy: 1.0000\n",
      "Epoch 5/5\n",
      "10/10 [==============================] - 0s 2ms/step - loss: 0.0626 - accuracy: 1.0000\n"
     ]
    },
    {
     "data": {
      "text/plain": [
       "<keras.callbacks.callbacks.History at 0x27319d414c8>"
      ]
     },
     "execution_count": 63,
     "metadata": {},
     "output_type": "execute_result"
    }
   ],
   "source": [
    "model.fit(x_train[:10], y_train[:10], epochs=5)"
   ]
  },
  {
   "cell_type": "code",
   "execution_count": 64,
   "metadata": {},
   "outputs": [
    {
     "name": "stdout",
     "output_type": "stream",
     "text": [
      "97/97 [==============================] - 0s 483us/step\n"
     ]
    }
   ],
   "source": [
    "score, acc = model.evaluate(x_test, y_test)"
   ]
  },
  {
   "cell_type": "code",
   "execution_count": 65,
   "metadata": {},
   "outputs": [
    {
     "data": {
      "text/plain": [
       "1.0"
      ]
     },
     "execution_count": 65,
     "metadata": {},
     "output_type": "execute_result"
    }
   ],
   "source": [
    "acc"
   ]
  },
  {
   "cell_type": "code",
   "execution_count": null,
   "metadata": {},
   "outputs": [],
   "source": []
  },
  {
   "cell_type": "code",
   "execution_count": null,
   "metadata": {},
   "outputs": [],
   "source": []
  }
 ],
 "metadata": {
  "kernelspec": {
   "display_name": "Python 3",
   "language": "python",
   "name": "python3"
  },
  "language_info": {
   "codemirror_mode": {
    "name": "ipython",
    "version": 3
   },
   "file_extension": ".py",
   "mimetype": "text/x-python",
   "name": "python",
   "nbconvert_exporter": "python",
   "pygments_lexer": "ipython3",
   "version": "3.7.4"
  }
 },
 "nbformat": 4,
 "nbformat_minor": 2
}
